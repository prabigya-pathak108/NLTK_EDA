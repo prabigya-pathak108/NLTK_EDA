{
 "cells": [
  {
   "cell_type": "code",
   "execution_count": 17,
   "metadata": {},
   "outputs": [],
   "source": [
    "import nltk\n",
    "from nltk.tokenize import word_tokenize,PunktSentenceTokenizer,sent_tokenize\n",
    "from nltk.corpus import state_union\n",
    "from nltk.tag import pos_tag"
   ]
  },
  {
   "cell_type": "code",
   "execution_count": 18,
   "metadata": {},
   "outputs": [],
   "source": [
    "sentence = \"The quick brown fox jumps over the lazy dog\""
   ]
  },
  {
   "cell_type": "code",
   "execution_count": 19,
   "metadata": {},
   "outputs": [
    {
     "data": {
      "text/plain": [
       "[('The', 'DT'),\n",
       " ('quick', 'JJ'),\n",
       " ('brown', 'NN'),\n",
       " ('fox', 'NN'),\n",
       " ('jumps', 'VBZ'),\n",
       " ('over', 'IN'),\n",
       " ('the', 'DT'),\n",
       " ('lazy', 'JJ'),\n",
       " ('dog', 'NN')]"
      ]
     },
     "execution_count": 19,
     "metadata": {},
     "output_type": "execute_result"
    }
   ],
   "source": [
    "## Tokenize and POS\n",
    "words = word_tokenize(sentence)\n",
    "\n",
    "# Perform POS tagging\n",
    "pos_tags = pos_tag(words)\n",
    "pos_tags"
   ]
  },
  {
   "cell_type": "code",
   "execution_count": 20,
   "metadata": {},
   "outputs": [],
   "source": [
    "#for noun phrase : conatains determiner, adjectives and noun\n",
    "chunk_rules = r\"\"\"\n",
    "    NP: {<DT>?<JJ>*<NN>}\n",
    "\"\"\"\n",
    "chun_parser =nltk.RegexpParser(chunk_rules)"
   ]
  },
  {
   "cell_type": "code",
   "execution_count": 21,
   "metadata": {},
   "outputs": [
    {
     "name": "stdout",
     "output_type": "stream",
     "text": [
      "(S\n",
      "  (NP The/DT quick/JJ brown/NN)\n",
      "  (NP fox/NN)\n",
      "  jumps/VBZ\n",
      "  over/IN\n",
      "  (NP the/DT lazy/JJ dog/NN))\n"
     ]
    }
   ],
   "source": [
    "chunks = chun_parser.parse(pos_tags)\n",
    "\n",
    "print(chunks)"
   ]
  },
  {
   "cell_type": "code",
   "execution_count": 22,
   "metadata": {},
   "outputs": [
    {
     "data": {
      "text/plain": [
       "[('Artificial', 'JJ'),\n",
       " ('Intelligence', 'NNP'),\n",
       " ('is', 'VBZ'),\n",
       " ('transforming', 'VBG'),\n",
       " ('industries', 'NNS'),\n",
       " ('.', '.'),\n",
       " ('It', 'PRP'),\n",
       " ('is', 'VBZ'),\n",
       " ('creating', 'VBG'),\n",
       " ('new', 'JJ'),\n",
       " ('opportunities', 'NNS'),\n",
       " ('and', 'CC'),\n",
       " ('solving', 'VBG'),\n",
       " ('complex', 'JJ'),\n",
       " ('problems', 'NNS'),\n",
       " ('.', '.')]"
      ]
     },
     "execution_count": 22,
     "metadata": {},
     "output_type": "execute_result"
    }
   ],
   "source": [
    "another_sent = \"Artificial Intelligence is transforming industries. It is creating new opportunities and solving complex problems.\"\n",
    "words_ai = word_tokenize(another_sent)\n",
    "\n",
    "pos_tags_ai = pos_tag(words_ai)\n",
    "pos_tags_ai"
   ]
  },
  {
   "cell_type": "code",
   "execution_count": 28,
   "metadata": {},
   "outputs": [
    {
     "name": "stdout",
     "output_type": "stream",
     "text": [
      "(S\n",
      "  Artificial/JJ\n",
      "  Intelligence/NNP\n",
      "  is/VBZ\n",
      "  transforming/VBG\n",
      "  industries/NNS\n",
      "  ./.\n",
      "  It/PRP\n",
      "  is/VBZ\n",
      "  creating/VBG\n",
      "  new/JJ\n",
      "  opportunities/NNS\n",
      "  and/CC\n",
      "  solving/VBG\n",
      "  complex/JJ\n",
      "  problems/NNS\n",
      "  ./.)\n"
     ]
    }
   ],
   "source": [
    "chunk_parser_ai = nltk.RegexpParser(chunk_rules)\n",
    "chunks_ai = chunk_parser_ai.parse(pos_tags_ai)\n",
    "print(chunks_ai)\n",
    "chunks_ai.draw()"
   ]
  },
  {
   "cell_type": "code",
   "execution_count": null,
   "metadata": {},
   "outputs": [],
   "source": []
  }
 ],
 "metadata": {
  "kernelspec": {
   "display_name": "py310",
   "language": "python",
   "name": "py310"
  },
  "language_info": {
   "codemirror_mode": {
    "name": "ipython",
    "version": 3
   },
   "file_extension": ".py",
   "mimetype": "text/x-python",
   "name": "python",
   "nbconvert_exporter": "python",
   "pygments_lexer": "ipython3",
   "version": "3.10.13"
  }
 },
 "nbformat": 4,
 "nbformat_minor": 2
}
