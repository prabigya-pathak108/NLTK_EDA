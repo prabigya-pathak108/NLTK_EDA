{
 "cells": [
  {
   "cell_type": "code",
   "execution_count": 140,
   "metadata": {},
   "outputs": [],
   "source": [
    "import nltk \n",
    "import pandas as pd\n",
    "from nltk.tokenize import sent_tokenize\n",
    "from nltk.corpus import stopwords\n",
    "\n",
    "import string\n",
    "import re"
   ]
  },
  {
   "cell_type": "code",
   "execution_count": 141,
   "metadata": {},
   "outputs": [],
   "source": [
    "original_text = \"Yesterday, I went to the grocery stoer and bought apples, bananas, and a bag of potatps. When I got home, I realizeed that I forgot to buy milk, so I had to go back. The cashier at the stoer was very frendly and even gave me a discount on the milk. Later, I made a delicius apple pie, but I accidentally burnt the crust. My freind John said it still tasted good though. Overall, it was a prety eventful day. I hope I'll get this time toomorow aslo.\"\n",
    "sente_token= sent_tokenize(original_text)\n"
   ]
  },
  {
   "cell_type": "markdown",
   "metadata": {},
   "source": [
    "### Converting to pandas Dataframe"
   ]
  },
  {
   "cell_type": "code",
   "execution_count": 142,
   "metadata": {},
   "outputs": [
    {
     "data": {
      "text/html": [
       "<div>\n",
       "<style scoped>\n",
       "    .dataframe tbody tr th:only-of-type {\n",
       "        vertical-align: middle;\n",
       "    }\n",
       "\n",
       "    .dataframe tbody tr th {\n",
       "        vertical-align: top;\n",
       "    }\n",
       "\n",
       "    .dataframe thead th {\n",
       "        text-align: right;\n",
       "    }\n",
       "</style>\n",
       "<table border=\"1\" class=\"dataframe\">\n",
       "  <thead>\n",
       "    <tr style=\"text-align: right;\">\n",
       "      <th></th>\n",
       "      <th>data</th>\n",
       "    </tr>\n",
       "  </thead>\n",
       "  <tbody>\n",
       "    <tr>\n",
       "      <th>0</th>\n",
       "      <td>Yesterday, I went to the grocery stoer and bou...</td>\n",
       "    </tr>\n",
       "    <tr>\n",
       "      <th>1</th>\n",
       "      <td>When I got home, I realizeed that I forgot to ...</td>\n",
       "    </tr>\n",
       "    <tr>\n",
       "      <th>2</th>\n",
       "      <td>The cashier at the stoer was very frendly and ...</td>\n",
       "    </tr>\n",
       "    <tr>\n",
       "      <th>3</th>\n",
       "      <td>Later, I made a delicius apple pie, but I acci...</td>\n",
       "    </tr>\n",
       "    <tr>\n",
       "      <th>4</th>\n",
       "      <td>My freind John said it still tasted good though.</td>\n",
       "    </tr>\n",
       "    <tr>\n",
       "      <th>5</th>\n",
       "      <td>Overall, it was a prety eventful day.</td>\n",
       "    </tr>\n",
       "    <tr>\n",
       "      <th>6</th>\n",
       "      <td>I hope I'll get this time toomorow aslo.</td>\n",
       "    </tr>\n",
       "  </tbody>\n",
       "</table>\n",
       "</div>"
      ],
      "text/plain": [
       "                                                data\n",
       "0  Yesterday, I went to the grocery stoer and bou...\n",
       "1  When I got home, I realizeed that I forgot to ...\n",
       "2  The cashier at the stoer was very frendly and ...\n",
       "3  Later, I made a delicius apple pie, but I acci...\n",
       "4   My freind John said it still tasted good though.\n",
       "5              Overall, it was a prety eventful day.\n",
       "6           I hope I'll get this time toomorow aslo."
      ]
     },
     "execution_count": 142,
     "metadata": {},
     "output_type": "execute_result"
    }
   ],
   "source": [
    "df = pd.DataFrame({\"data\":sente_token})\n",
    "df"
   ]
  },
  {
   "cell_type": "code",
   "execution_count": 143,
   "metadata": {},
   "outputs": [
    {
     "data": {
      "text/html": [
       "<div>\n",
       "<style scoped>\n",
       "    .dataframe tbody tr th:only-of-type {\n",
       "        vertical-align: middle;\n",
       "    }\n",
       "\n",
       "    .dataframe tbody tr th {\n",
       "        vertical-align: top;\n",
       "    }\n",
       "\n",
       "    .dataframe thead th {\n",
       "        text-align: right;\n",
       "    }\n",
       "</style>\n",
       "<table border=\"1\" class=\"dataframe\">\n",
       "  <thead>\n",
       "    <tr style=\"text-align: right;\">\n",
       "      <th></th>\n",
       "      <th>lower</th>\n",
       "    </tr>\n",
       "  </thead>\n",
       "  <tbody>\n",
       "    <tr>\n",
       "      <th>0</th>\n",
       "      <td>yesterday, i went to the grocery stoer and bou...</td>\n",
       "    </tr>\n",
       "    <tr>\n",
       "      <th>1</th>\n",
       "      <td>when i got home, i realizeed that i forgot to ...</td>\n",
       "    </tr>\n",
       "    <tr>\n",
       "      <th>2</th>\n",
       "      <td>the cashier at the stoer was very frendly and ...</td>\n",
       "    </tr>\n",
       "    <tr>\n",
       "      <th>3</th>\n",
       "      <td>later, i made a delicius apple pie, but i acci...</td>\n",
       "    </tr>\n",
       "    <tr>\n",
       "      <th>4</th>\n",
       "      <td>my freind john said it still tasted good though.</td>\n",
       "    </tr>\n",
       "    <tr>\n",
       "      <th>5</th>\n",
       "      <td>overall, it was a prety eventful day.</td>\n",
       "    </tr>\n",
       "    <tr>\n",
       "      <th>6</th>\n",
       "      <td>i hope i'll get this time toomorow aslo.</td>\n",
       "    </tr>\n",
       "  </tbody>\n",
       "</table>\n",
       "</div>"
      ],
      "text/plain": [
       "                                               lower\n",
       "0  yesterday, i went to the grocery stoer and bou...\n",
       "1  when i got home, i realizeed that i forgot to ...\n",
       "2  the cashier at the stoer was very frendly and ...\n",
       "3  later, i made a delicius apple pie, but i acci...\n",
       "4   my freind john said it still tasted good though.\n",
       "5              overall, it was a prety eventful day.\n",
       "6           i hope i'll get this time toomorow aslo."
      ]
     },
     "execution_count": 143,
     "metadata": {},
     "output_type": "execute_result"
    }
   ],
   "source": [
    "# Lowercasing \n",
    "df[\"lower\"] = df[\"data\"].apply(lambda x: \" \".join(x.lower() for x in str(x).split()))\n",
    "df.drop(columns=[\"data\"],inplace = True)\n",
    "df"
   ]
  },
  {
   "cell_type": "code",
   "execution_count": 144,
   "metadata": {},
   "outputs": [
    {
     "data": {
      "text/plain": [
       "'!\"#$%&\\'()*+,-./:;<=>?@[\\\\]^_`{|}~'"
      ]
     },
     "execution_count": 144,
     "metadata": {},
     "output_type": "execute_result"
    }
   ],
   "source": [
    "string.punctuation"
   ]
  },
  {
   "cell_type": "markdown",
   "metadata": {},
   "source": [
    "### Replacement Pattern"
   ]
  },
  {
   "cell_type": "code",
   "execution_count": 145,
   "metadata": {},
   "outputs": [],
   "source": [
    "replacement_patterns = [\n",
    " (r'won\\'t', 'will not'),\n",
    " (r'can\\'t', 'cannot'),\n",
    " (r'i\\'m', 'i am'),\n",
    " (r'ain\\'t', 'is not'),\n",
    " (r'(\\w+)\\'ll', '\\g<1> will'),\n",
    " (r'(\\w+)n\\'t', '\\g<1> not'),\n",
    " (r'(\\w+)\\'ve', '\\g<1> have'),\n",
    " (r'(\\w+)\\'s', '\\g<1> is'),\n",
    " (r'(\\w+)\\'re', '\\g<1> are'),\n",
    " (r'(\\w+)\\'d', '\\g<1> would')\n",
    "]\n",
    "patterns = [(re.compile(regex), repl) for (regex, repl) in replacement_patterns]\n",
    "\n",
    "def replace_function(text):\n",
    "    s = text\n",
    "    for (pattern, repl) in patterns:\n",
    "        s = re.sub(pattern, repl, s)\n",
    "    return s"
   ]
  },
  {
   "cell_type": "code",
   "execution_count": 146,
   "metadata": {},
   "outputs": [
    {
     "data": {
      "text/html": [
       "<div>\n",
       "<style scoped>\n",
       "    .dataframe tbody tr th:only-of-type {\n",
       "        vertical-align: middle;\n",
       "    }\n",
       "\n",
       "    .dataframe tbody tr th {\n",
       "        vertical-align: top;\n",
       "    }\n",
       "\n",
       "    .dataframe thead th {\n",
       "        text-align: right;\n",
       "    }\n",
       "</style>\n",
       "<table border=\"1\" class=\"dataframe\">\n",
       "  <thead>\n",
       "    <tr style=\"text-align: right;\">\n",
       "      <th></th>\n",
       "      <th>lower</th>\n",
       "      <th>new</th>\n",
       "    </tr>\n",
       "  </thead>\n",
       "  <tbody>\n",
       "    <tr>\n",
       "      <th>0</th>\n",
       "      <td>yesterday, i went to the grocery stoer and bou...</td>\n",
       "      <td>yesterday i went to the grocery stoer and boug...</td>\n",
       "    </tr>\n",
       "    <tr>\n",
       "      <th>1</th>\n",
       "      <td>when i got home, i realizeed that i forgot to ...</td>\n",
       "      <td>when i got home i realizeed that i forgot to b...</td>\n",
       "    </tr>\n",
       "    <tr>\n",
       "      <th>2</th>\n",
       "      <td>the cashier at the stoer was very frendly and ...</td>\n",
       "      <td>the cashier at the stoer was very frendly and ...</td>\n",
       "    </tr>\n",
       "    <tr>\n",
       "      <th>3</th>\n",
       "      <td>later, i made a delicius apple pie, but i acci...</td>\n",
       "      <td>later i made a delicius apple pie but i accide...</td>\n",
       "    </tr>\n",
       "    <tr>\n",
       "      <th>4</th>\n",
       "      <td>my freind john said it still tasted good though.</td>\n",
       "      <td>my freind john said it still tasted good though</td>\n",
       "    </tr>\n",
       "    <tr>\n",
       "      <th>5</th>\n",
       "      <td>overall, it was a prety eventful day.</td>\n",
       "      <td>overall it was a prety eventful day</td>\n",
       "    </tr>\n",
       "    <tr>\n",
       "      <th>6</th>\n",
       "      <td>i hope i'll get this time toomorow aslo.</td>\n",
       "      <td>i hope i will get this time toomorow aslo</td>\n",
       "    </tr>\n",
       "  </tbody>\n",
       "</table>\n",
       "</div>"
      ],
      "text/plain": [
       "                                               lower  \\\n",
       "0  yesterday, i went to the grocery stoer and bou...   \n",
       "1  when i got home, i realizeed that i forgot to ...   \n",
       "2  the cashier at the stoer was very frendly and ...   \n",
       "3  later, i made a delicius apple pie, but i acci...   \n",
       "4   my freind john said it still tasted good though.   \n",
       "5              overall, it was a prety eventful day.   \n",
       "6           i hope i'll get this time toomorow aslo.   \n",
       "\n",
       "                                                 new  \n",
       "0  yesterday i went to the grocery stoer and boug...  \n",
       "1  when i got home i realizeed that i forgot to b...  \n",
       "2  the cashier at the stoer was very frendly and ...  \n",
       "3  later i made a delicius apple pie but i accide...  \n",
       "4    my freind john said it still tasted good though  \n",
       "5                overall it was a prety eventful day  \n",
       "6          i hope i will get this time toomorow aslo  "
      ]
     },
     "execution_count": 146,
     "metadata": {},
     "output_type": "execute_result"
    }
   ],
   "source": [
    "# remove punctuation\n",
    "df[\"new\"]=df[\"lower\"].apply(replace_function).apply(lambda x: \"\".join(i for i in x if i not in string.punctuation))\n",
    "df"
   ]
  },
  {
   "cell_type": "code",
   "execution_count": 147,
   "metadata": {},
   "outputs": [],
   "source": [
    "df.drop(columns=[\"lower\"],axis=\"column\",inplace= True)"
   ]
  },
  {
   "cell_type": "code",
   "execution_count": 148,
   "metadata": {},
   "outputs": [
    {
     "data": {
      "text/html": [
       "<div>\n",
       "<style scoped>\n",
       "    .dataframe tbody tr th:only-of-type {\n",
       "        vertical-align: middle;\n",
       "    }\n",
       "\n",
       "    .dataframe tbody tr th {\n",
       "        vertical-align: top;\n",
       "    }\n",
       "\n",
       "    .dataframe thead th {\n",
       "        text-align: right;\n",
       "    }\n",
       "</style>\n",
       "<table border=\"1\" class=\"dataframe\">\n",
       "  <thead>\n",
       "    <tr style=\"text-align: right;\">\n",
       "      <th></th>\n",
       "      <th>new</th>\n",
       "      <th>no_stop_words</th>\n",
       "    </tr>\n",
       "  </thead>\n",
       "  <tbody>\n",
       "    <tr>\n",
       "      <th>0</th>\n",
       "      <td>yesterday i went to the grocery stoer and boug...</td>\n",
       "      <td>yesterday went grocery stoer bought apples ban...</td>\n",
       "    </tr>\n",
       "    <tr>\n",
       "      <th>1</th>\n",
       "      <td>when i got home i realizeed that i forgot to b...</td>\n",
       "      <td>got home realizeed forgot buy milk go back</td>\n",
       "    </tr>\n",
       "    <tr>\n",
       "      <th>2</th>\n",
       "      <td>the cashier at the stoer was very frendly and ...</td>\n",
       "      <td>cashier stoer frendly even gave discount milk</td>\n",
       "    </tr>\n",
       "    <tr>\n",
       "      <th>3</th>\n",
       "      <td>later i made a delicius apple pie but i accide...</td>\n",
       "      <td>later made delicius apple pie accidentally bur...</td>\n",
       "    </tr>\n",
       "    <tr>\n",
       "      <th>4</th>\n",
       "      <td>my freind john said it still tasted good though</td>\n",
       "      <td>freind john said still tasted good though</td>\n",
       "    </tr>\n",
       "    <tr>\n",
       "      <th>5</th>\n",
       "      <td>overall it was a prety eventful day</td>\n",
       "      <td>overall prety eventful day</td>\n",
       "    </tr>\n",
       "    <tr>\n",
       "      <th>6</th>\n",
       "      <td>i hope i will get this time toomorow aslo</td>\n",
       "      <td>hope get time toomorow aslo</td>\n",
       "    </tr>\n",
       "  </tbody>\n",
       "</table>\n",
       "</div>"
      ],
      "text/plain": [
       "                                                 new  \\\n",
       "0  yesterday i went to the grocery stoer and boug...   \n",
       "1  when i got home i realizeed that i forgot to b...   \n",
       "2  the cashier at the stoer was very frendly and ...   \n",
       "3  later i made a delicius apple pie but i accide...   \n",
       "4    my freind john said it still tasted good though   \n",
       "5                overall it was a prety eventful day   \n",
       "6          i hope i will get this time toomorow aslo   \n",
       "\n",
       "                                       no_stop_words  \n",
       "0  yesterday went grocery stoer bought apples ban...  \n",
       "1         got home realizeed forgot buy milk go back  \n",
       "2      cashier stoer frendly even gave discount milk  \n",
       "3  later made delicius apple pie accidentally bur...  \n",
       "4          freind john said still tasted good though  \n",
       "5                         overall prety eventful day  \n",
       "6                        hope get time toomorow aslo  "
      ]
     },
     "execution_count": 148,
     "metadata": {},
     "output_type": "execute_result"
    }
   ],
   "source": [
    "\n",
    "df[\"no_stop_words\"]=df[\"new\"].apply(lambda x:\" \".join(i for i in x.split() if i not in stopwords.words(\"english\")))\n",
    "df"
   ]
  },
  {
   "cell_type": "code",
   "execution_count": 149,
   "metadata": {},
   "outputs": [],
   "source": [
    "df.drop(columns=[\"new\"],inplace=True)"
   ]
  },
  {
   "cell_type": "markdown",
   "metadata": {},
   "source": [
    "### Spelling Correction"
   ]
  },
  {
   "cell_type": "code",
   "execution_count": 150,
   "metadata": {},
   "outputs": [
    {
     "data": {
      "text/html": [
       "<div>\n",
       "<style scoped>\n",
       "    .dataframe tbody tr th:only-of-type {\n",
       "        vertical-align: middle;\n",
       "    }\n",
       "\n",
       "    .dataframe tbody tr th {\n",
       "        vertical-align: top;\n",
       "    }\n",
       "\n",
       "    .dataframe thead th {\n",
       "        text-align: right;\n",
       "    }\n",
       "</style>\n",
       "<table border=\"1\" class=\"dataframe\">\n",
       "  <thead>\n",
       "    <tr style=\"text-align: right;\">\n",
       "      <th></th>\n",
       "      <th>no_stop_words</th>\n",
       "      <th>correct_spelled</th>\n",
       "    </tr>\n",
       "  </thead>\n",
       "  <tbody>\n",
       "    <tr>\n",
       "      <th>0</th>\n",
       "      <td>yesterday went grocery stoer bought apples ban...</td>\n",
       "      <td>yesterday went grocer stoner bought apples ban...</td>\n",
       "    </tr>\n",
       "    <tr>\n",
       "      <th>1</th>\n",
       "      <td>got home realizeed forgot buy milk go back</td>\n",
       "      <td>got home realized forgot buy milk go back</td>\n",
       "    </tr>\n",
       "    <tr>\n",
       "      <th>2</th>\n",
       "      <td>cashier stoer frendly even gave discount milk</td>\n",
       "      <td>cashier stoner friendly even gave discount milk</td>\n",
       "    </tr>\n",
       "    <tr>\n",
       "      <th>3</th>\n",
       "      <td>later made delicius apple pie accidentally bur...</td>\n",
       "      <td>later made delicious apple pie accidentally bu...</td>\n",
       "    </tr>\n",
       "    <tr>\n",
       "      <th>4</th>\n",
       "      <td>freind john said still tasted good though</td>\n",
       "      <td>friend john said still tasted good though</td>\n",
       "    </tr>\n",
       "    <tr>\n",
       "      <th>5</th>\n",
       "      <td>overall prety eventful day</td>\n",
       "      <td>overall pretty eventual day</td>\n",
       "    </tr>\n",
       "    <tr>\n",
       "      <th>6</th>\n",
       "      <td>hope get time toomorow aslo</td>\n",
       "      <td>hope get time tomorrow also</td>\n",
       "    </tr>\n",
       "  </tbody>\n",
       "</table>\n",
       "</div>"
      ],
      "text/plain": [
       "                                       no_stop_words  \\\n",
       "0  yesterday went grocery stoer bought apples ban...   \n",
       "1         got home realizeed forgot buy milk go back   \n",
       "2      cashier stoer frendly even gave discount milk   \n",
       "3  later made delicius apple pie accidentally bur...   \n",
       "4          freind john said still tasted good though   \n",
       "5                         overall prety eventful day   \n",
       "6                        hope get time toomorow aslo   \n",
       "\n",
       "                                     correct_spelled  \n",
       "0  yesterday went grocer stoner bought apples ban...  \n",
       "1          got home realized forgot buy milk go back  \n",
       "2    cashier stoner friendly even gave discount milk  \n",
       "3  later made delicious apple pie accidentally bu...  \n",
       "4          friend john said still tasted good though  \n",
       "5                        overall pretty eventual day  \n",
       "6                        hope get time tomorrow also  "
      ]
     },
     "execution_count": 150,
     "metadata": {},
     "output_type": "execute_result"
    }
   ],
   "source": [
    "from textblob import TextBlob\n",
    "df[\"correct_spelled\"]=df[\"no_stop_words\"].apply(lambda x: str(TextBlob(x).correct()))\n",
    "df"
   ]
  },
  {
   "cell_type": "markdown",
   "metadata": {},
   "source": [
    "I am not so much satisfied with the result as store is not corrected. correct grocery is rejected.\n",
    "\n",
    "## Apply another Technique Enchant Distance\n"
   ]
  },
  {
   "cell_type": "code",
   "execution_count": 151,
   "metadata": {},
   "outputs": [],
   "source": [
    "import enchant\n",
    "from nltk.metrics import edit_distance\n",
    "d = enchant.Dict(\"en_US\")\n",
    "\n",
    "def correct_spellings_all(text):\n",
    "    words = text.split()\n",
    "    corrected_words = []\n",
    "    for word in words:\n",
    "        if d.check(word):\n",
    "            corrected_words.append(word)\n",
    "        else:\n",
    "            suggestions = d.suggest(word)\n",
    "            if suggestions:\n",
    "                if (edit_distance(word,suggestions[0])>1):\n",
    "                    corrected_words.append(suggestions[0])\n",
    "                else:\n",
    "                    corrected_words.append(word)\n",
    "            else:\n",
    "                corrected_words.append(word)\n",
    "    return ' '.join(corrected_words)\n"
   ]
  },
  {
   "cell_type": "code",
   "execution_count": 152,
   "metadata": {},
   "outputs": [
    {
     "data": {
      "text/html": [
       "<div>\n",
       "<style scoped>\n",
       "    .dataframe tbody tr th:only-of-type {\n",
       "        vertical-align: middle;\n",
       "    }\n",
       "\n",
       "    .dataframe tbody tr th {\n",
       "        vertical-align: top;\n",
       "    }\n",
       "\n",
       "    .dataframe thead th {\n",
       "        text-align: right;\n",
       "    }\n",
       "</style>\n",
       "<table border=\"1\" class=\"dataframe\">\n",
       "  <thead>\n",
       "    <tr style=\"text-align: right;\">\n",
       "      <th></th>\n",
       "      <th>no_stop_words</th>\n",
       "      <th>correct_spelled</th>\n",
       "    </tr>\n",
       "  </thead>\n",
       "  <tbody>\n",
       "    <tr>\n",
       "      <th>0</th>\n",
       "      <td>yesterday went grocery stoer bought apples ban...</td>\n",
       "      <td>yesterday went grocery store bought apples ban...</td>\n",
       "    </tr>\n",
       "    <tr>\n",
       "      <th>1</th>\n",
       "      <td>got home realizeed forgot buy milk go back</td>\n",
       "      <td>got home realizeed forgot buy milk go back</td>\n",
       "    </tr>\n",
       "    <tr>\n",
       "      <th>2</th>\n",
       "      <td>cashier stoer frendly even gave discount milk</td>\n",
       "      <td>cashier store frendly even gave discount milk</td>\n",
       "    </tr>\n",
       "    <tr>\n",
       "      <th>3</th>\n",
       "      <td>later made delicius apple pie accidentally bur...</td>\n",
       "      <td>later made delicius apple pie accidentally bur...</td>\n",
       "    </tr>\n",
       "    <tr>\n",
       "      <th>4</th>\n",
       "      <td>freind john said still tasted good though</td>\n",
       "      <td>friend john said still tasted good though</td>\n",
       "    </tr>\n",
       "    <tr>\n",
       "      <th>5</th>\n",
       "      <td>overall prety eventful day</td>\n",
       "      <td>overall prety eventful day</td>\n",
       "    </tr>\n",
       "    <tr>\n",
       "      <th>6</th>\n",
       "      <td>hope get time toomorow aslo</td>\n",
       "      <td>hope get time tomorrow also</td>\n",
       "    </tr>\n",
       "  </tbody>\n",
       "</table>\n",
       "</div>"
      ],
      "text/plain": [
       "                                       no_stop_words  \\\n",
       "0  yesterday went grocery stoer bought apples ban...   \n",
       "1         got home realizeed forgot buy milk go back   \n",
       "2      cashier stoer frendly even gave discount milk   \n",
       "3  later made delicius apple pie accidentally bur...   \n",
       "4          freind john said still tasted good though   \n",
       "5                         overall prety eventful day   \n",
       "6                        hope get time toomorow aslo   \n",
       "\n",
       "                                     correct_spelled  \n",
       "0  yesterday went grocery store bought apples ban...  \n",
       "1         got home realizeed forgot buy milk go back  \n",
       "2      cashier store frendly even gave discount milk  \n",
       "3  later made delicius apple pie accidentally bur...  \n",
       "4          friend john said still tasted good though  \n",
       "5                         overall prety eventful day  \n",
       "6                        hope get time tomorrow also  "
      ]
     },
     "execution_count": 152,
     "metadata": {},
     "output_type": "execute_result"
    }
   ],
   "source": [
    "df[\"correct_spelled\"]=df[\"no_stop_words\"].apply(correct_spellings_all)\n",
    "df"
   ]
  },
  {
   "cell_type": "code",
   "execution_count": 153,
   "metadata": {},
   "outputs": [],
   "source": [
    "df.drop(columns=[\"no_stop_words\"],inplace=True)"
   ]
  },
  {
   "cell_type": "markdown",
   "metadata": {},
   "source": [
    "## Lemmatizaion"
   ]
  },
  {
   "cell_type": "code",
   "execution_count": 154,
   "metadata": {},
   "outputs": [],
   "source": [
    "from nltk.stem.wordnet import WordNetLemmatizer\n",
    "from nltk.corpus import wordnet as wn\n",
    "from nltk import word_tokenize, pos_tag\n",
    "from collections import defaultdict\n",
    "tag_map = defaultdict(lambda : wn.NOUN)\n",
    "tag_map['J'] = wn.ADJ\n",
    "tag_map['V'] = wn.VERB\n",
    "tag_map['R'] = wn.ADV\n",
    "\n",
    "lemmatizer = WordNetLemmatizer()\n",
    "\n",
    "def lemmatize_sentence(text):\n",
    "    words = nltk.word_tokenize(text)\n",
    "    corrected_words = []\n",
    "    for token, tag in pos_tag(words):\n",
    "        #print(token,\" \",tag)\n",
    "        lemma = lemmatizer.lemmatize(token, tag_map[tag[0]])\n",
    "        corrected_words.append(lemma)\n",
    "    return ' '.join(corrected_words)"
   ]
  },
  {
   "cell_type": "code",
   "execution_count": 155,
   "metadata": {},
   "outputs": [
    {
     "data": {
      "text/plain": [
       "'betterly be nice'"
      ]
     },
     "execution_count": 155,
     "metadata": {},
     "output_type": "execute_result"
    }
   ],
   "source": [
    "m=lemmatize_sentence(\"betterly is nice\")\n",
    "m"
   ]
  },
  {
   "cell_type": "code",
   "execution_count": 156,
   "metadata": {},
   "outputs": [
    {
     "data": {
      "text/html": [
       "<div>\n",
       "<style scoped>\n",
       "    .dataframe tbody tr th:only-of-type {\n",
       "        vertical-align: middle;\n",
       "    }\n",
       "\n",
       "    .dataframe tbody tr th {\n",
       "        vertical-align: top;\n",
       "    }\n",
       "\n",
       "    .dataframe thead th {\n",
       "        text-align: right;\n",
       "    }\n",
       "</style>\n",
       "<table border=\"1\" class=\"dataframe\">\n",
       "  <thead>\n",
       "    <tr style=\"text-align: right;\">\n",
       "      <th></th>\n",
       "      <th>correct_spelled</th>\n",
       "      <th>lemmmatized</th>\n",
       "    </tr>\n",
       "  </thead>\n",
       "  <tbody>\n",
       "    <tr>\n",
       "      <th>0</th>\n",
       "      <td>yesterday went grocery store bought apples ban...</td>\n",
       "      <td>yesterday go grocery store buy apple banana ba...</td>\n",
       "    </tr>\n",
       "    <tr>\n",
       "      <th>1</th>\n",
       "      <td>got home realizeed forgot buy milk go back</td>\n",
       "      <td>get home realize forgot buy milk go back</td>\n",
       "    </tr>\n",
       "    <tr>\n",
       "      <th>2</th>\n",
       "      <td>cashier store frendly even gave discount milk</td>\n",
       "      <td>cashier store frendly even give discount milk</td>\n",
       "    </tr>\n",
       "    <tr>\n",
       "      <th>3</th>\n",
       "      <td>later made delicius apple pie accidentally bur...</td>\n",
       "      <td>later make delicius apple pie accidentally bur...</td>\n",
       "    </tr>\n",
       "    <tr>\n",
       "      <th>4</th>\n",
       "      <td>friend john said still tasted good though</td>\n",
       "      <td>friend john say still taste good though</td>\n",
       "    </tr>\n",
       "    <tr>\n",
       "      <th>5</th>\n",
       "      <td>overall prety eventful day</td>\n",
       "      <td>overall prety eventful day</td>\n",
       "    </tr>\n",
       "    <tr>\n",
       "      <th>6</th>\n",
       "      <td>hope get time tomorrow also</td>\n",
       "      <td>hope get time tomorrow also</td>\n",
       "    </tr>\n",
       "  </tbody>\n",
       "</table>\n",
       "</div>"
      ],
      "text/plain": [
       "                                     correct_spelled  \\\n",
       "0  yesterday went grocery store bought apples ban...   \n",
       "1         got home realizeed forgot buy milk go back   \n",
       "2      cashier store frendly even gave discount milk   \n",
       "3  later made delicius apple pie accidentally bur...   \n",
       "4          friend john said still tasted good though   \n",
       "5                         overall prety eventful day   \n",
       "6                        hope get time tomorrow also   \n",
       "\n",
       "                                         lemmmatized  \n",
       "0  yesterday go grocery store buy apple banana ba...  \n",
       "1           get home realize forgot buy milk go back  \n",
       "2      cashier store frendly even give discount milk  \n",
       "3  later make delicius apple pie accidentally bur...  \n",
       "4            friend john say still taste good though  \n",
       "5                         overall prety eventful day  \n",
       "6                        hope get time tomorrow also  "
      ]
     },
     "execution_count": 156,
     "metadata": {},
     "output_type": "execute_result"
    }
   ],
   "source": [
    "df[\"lemmmatized\"]=df[\"correct_spelled\"].apply(lemmatize_sentence)\n",
    "df"
   ]
  },
  {
   "cell_type": "markdown",
   "metadata": {},
   "source": [
    "## Exploratory Data Analysis\n",
    "\n",
    "#### Word Frequency"
   ]
  },
  {
   "cell_type": "code",
   "execution_count": 157,
   "metadata": {},
   "outputs": [],
   "source": [
    "#all words for analysis\n",
    "\n",
    "all_words = []\n",
    "for sentence in df['lemmmatized']:\n",
    "    all_words.extend(sentence.split())"
   ]
  },
  {
   "cell_type": "markdown",
   "metadata": {},
   "source": [
    "### WordCloud of Present Words"
   ]
  },
  {
   "cell_type": "code",
   "execution_count": 158,
   "metadata": {},
   "outputs": [
    {
     "data": {
      "image/png": "[encoded data removed]",
      "text/plain": [
       "<Figure size 640x480 with 1 Axes>"
      ]
     },
     "metadata": {},
     "output_type": "display_data"
    }
   ],
   "source": [
    "from matplotlib import pyplot as plt\n",
    "from wordcloud import WordCloud\n",
    "\n",
    "wordcloud = WordCloud(width = 1000, height = 500).generate(\" \".join(all_words))\n",
    "plt.imshow(wordcloud, interpolation='bilinear')\n",
    "plt.axis(\"off\")\n",
    "plt.show()"
   ]
  },
  {
   "cell_type": "markdown",
   "metadata": {},
   "source": [
    "#### Frequency of all words"
   ]
  },
  {
   "cell_type": "code",
   "execution_count": 159,
   "metadata": {},
   "outputs": [
    {
     "data": {
      "text/plain": [
       "FreqDist({'go': 2, 'store': 2, 'buy': 2, 'apple': 2, 'get': 2, 'milk': 2, 'yesterday': 1, 'grocery': 1, 'banana': 1, 'bag': 1, ...})"
      ]
     },
     "execution_count": 159,
     "metadata": {},
     "output_type": "execute_result"
    }
   ],
   "source": [
    "from nltk.probability import FreqDist,ConditionalFreqDist\n",
    "\n",
    "fd = FreqDist(all_words)\n",
    "fd"
   ]
  },
  {
   "cell_type": "code",
   "execution_count": 161,
   "metadata": {},
   "outputs": [
    {
     "name": "stdout",
     "output_type": "stream",
     "text": [
      "[('go', 2), ('store', 2), ('buy', 2), ('apple', 2), ('get', 2)]\n"
     ]
    }
   ],
   "source": [
    "#most common 5 words\n",
    "print(fd.most_common(5))\n"
   ]
  },
  {
   "cell_type": "code",
   "execution_count": null,
   "metadata": {},
   "outputs": [],
   "source": []
  }
 ],
 "metadata": {
  "kernelspec": {
   "display_name": "py310",
   "language": "python",
   "name": "py310"
  },
  "language_info": {
   "codemirror_mode": {
    "name": "ipython",
    "version": 3
   },
   "file_extension": ".py",
   "mimetype": "text/x-python",
   "name": "python",
   "nbconvert_exporter": "python",
   "pygments_lexer": "ipython3",
   "version": "3.10.13"
  }
 },
 "nbformat": 4,
 "nbformat_minor": 2
}
